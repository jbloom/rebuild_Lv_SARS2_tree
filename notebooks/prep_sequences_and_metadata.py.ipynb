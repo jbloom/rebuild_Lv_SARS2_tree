{
 "cells": [
  {
   "cell_type": "markdown",
   "id": "1c67f5d8-be24-4433-9a5d-442708fabb76",
   "metadata": {},
   "source": [
    "# Prep sequences and metadata for `augur`"
   ]
  },
  {
   "cell_type": "code",
   "execution_count": null,
   "id": "97040f36-213f-405d-95c5-ea9c71eadd0b",
   "metadata": {
    "tags": []
   },
   "outputs": [],
   "source": [
    "import Bio.SeqIO\n",
    "\n",
    "import pandas as pd"
   ]
  },
  {
   "cell_type": "code",
   "execution_count": null,
   "id": "11588099-ce5b-4f68-8d27-cbfdb5bd7209",
   "metadata": {
    "tags": []
   },
   "outputs": [],
   "source": [
    "# Get variables from `snakemake`\n",
    "seq_files = snakemake.input.seqs\n",
    "accession_info_csv = snakemake.input.accession_info\n",
    "output_sequences = snakemake.output.sequences\n",
    "output_metadata = snakemake.output.metadata"
   ]
  },
  {
   "cell_type": "code",
   "execution_count": null,
   "id": "1dc8712b-5d20-4ac7-97a7-dfcdd671923b",
   "metadata": {
    "tags": []
   },
   "outputs": [],
   "source": [
    "accession_info = pd.read_csv(accession_info_csv)\n",
    "accessions = set(accession_info[\"accession\"])\n",
    "\n",
    "seqs = []\n",
    "accessions_found = set()\n",
    "for seq_file in seq_files:\n",
    "    iseqs = list(Bio.SeqIO.parse(seq_file, \"fasta\"))\n",
    "    print(f\"Read {len(iseqs)} sequences from {seq_file}\")\n",
    "    for seq in iseqs:\n",
    "        if not (29000 <= len(seq) <= 31000):\n",
    "            raise ValueError(f\"{seq=} has invalid length {len(seq)}\")\n",
    "        if seq.id not in accessions:\n",
    "            seq.id = seq.id.split(\".\")[0]  # remove version from Genbank sequences\n",
    "        assert seq.id in accessions, f\"{seq.id=} not in accessions\"\n",
    "        seqs.append(seq)\n",
    "        if seq.id in accessions_found:\n",
    "            raise ValueError(f\"duplicate sequences for {seq.id}\")\n",
    "        accessions_found.add(seq.id)\n",
    "        \n",
    "print(f\"Overall processed {len(seqs)} sequences for the {len(accessions)} accessions\")\n",
    "\n",
    "print(f\"Writing the sequences to {output_sequences}\")\n",
    "Bio.SeqIO.write(seqs, output_sequences, \"fasta\")\n",
    "\n",
    "print(f\"Writing the metadata to {output_metadata}\")\n",
    "accession_info.query(\"accession in @accessions_found\").to_csv(output_metadata, index=False, sep=\"\\t\")"
   ]
  },
  {
   "cell_type": "code",
   "execution_count": null,
   "id": "4e277701-c9a3-41f5-ae1f-202151f2920c",
   "metadata": {},
   "outputs": [],
   "source": []
  }
 ],
 "metadata": {
  "kernelspec": {
   "display_name": "Python 3 (ipykernel)",
   "language": "python",
   "name": "python3"
  },
  "language_info": {
   "codemirror_mode": {
    "name": "ipython",
    "version": 3
   },
   "file_extension": ".py",
   "mimetype": "text/x-python",
   "name": "python",
   "nbconvert_exporter": "python",
   "pygments_lexer": "ipython3",
   "version": "3.10.14"
  }
 },
 "nbformat": 4,
 "nbformat_minor": 5
}
