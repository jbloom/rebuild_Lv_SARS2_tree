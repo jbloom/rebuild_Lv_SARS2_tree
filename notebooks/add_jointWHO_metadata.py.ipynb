{
 "cells": [
  {
   "cell_type": "markdown",
   "id": "8bbaec2d-1233-41f6-9e90-f9a5596353a0",
   "metadata": {},
   "source": [
    "# Add joint WHO-China metadata"
   ]
  },
  {
   "cell_type": "code",
   "execution_count": null,
   "id": "c739e6db-46a1-42a3-8dc7-c684f97ed77e",
   "metadata": {
    "tags": []
   },
   "outputs": [],
   "source": [
    "import pandas as pd\n",
    "\n",
    "metadata = pd.read_csv(snakemake.input.metadata, sep=\"\\t\")\n",
    "assert len(metadata) == metadata[\"accession\"].nunique()\n",
    "\n",
    "jointWHO_metadata = pd.read_csv(snakemake.input.jointWHO_metadata)\n",
    "assert len(jointWHO_metadata) == jointWHO_metadata[\"accession\"].nunique()\n",
    "\n",
    "assert set(jointWHO_metadata[\"accession\"]).issubset(metadata[\"accession\"])\n",
    "\n",
    "metadata = (\n",
    "    metadata\n",
    "    .merge(\n",
    "        jointWHO_metadata.assign(\n",
    "            joint_WHO_report_2019_case=lambda x: x[\"from_market\"].map(\n",
    "                lambda m: \"yes - from Huanan Market\" if m else \"yes - not from Huanan Market\"\n",
    "            )\n",
    "        )[[\"accession\", \"joint_WHO_report_2019_case\"]],\n",
    "        how=\"left\",\n",
    "        validate=\"one_to_one\",\n",
    "    )\n",
    "    .assign(joint_WHO_report_2019_case=lambda x: x[\"joint_WHO_report_2019_case\"].fillna(\"no\"))\n",
    ")\n",
    "\n",
    "metadata.to_csv(snakemake.output.metadata, sep=\"\\t\", index=False)\n",
    "\n",
    "metadata"
   ]
  },
  {
   "cell_type": "code",
   "execution_count": null,
   "id": "e6c17806-5f0c-4a30-8792-fc6a9b7b5828",
   "metadata": {},
   "outputs": [],
   "source": []
  }
 ],
 "metadata": {
  "kernelspec": {
   "display_name": "Python 3 (ipykernel)",
   "language": "python",
   "name": "python3"
  },
  "language_info": {
   "codemirror_mode": {
    "name": "ipython",
    "version": 3
   },
   "file_extension": ".py",
   "mimetype": "text/x-python",
   "name": "python",
   "nbconvert_exporter": "python",
   "pygments_lexer": "ipython3",
   "version": "3.10.14"
  }
 },
 "nbformat": 4,
 "nbformat_minor": 5
}
