{
 "cells": [
  {
   "cell_type": "markdown",
   "id": "ae4425dd-f2fb-443b-a97c-8eb3880dde34",
   "metadata": {},
   "source": [
    "# Root the tree to outgroup then remove outgroup"
   ]
  },
  {
   "cell_type": "code",
   "execution_count": null,
   "id": "abbcbcc2-1e3a-42d1-8ca1-a9c25a100af5",
   "metadata": {},
   "outputs": [],
   "source": [
    "import Bio.Phylo\n",
    "import Bio.SeqIO"
   ]
  },
  {
   "cell_type": "code",
   "execution_count": null,
   "id": "4dfe9041-77c6-4755-a539-bb8ff336b2aa",
   "metadata": {
    "tags": []
   },
   "outputs": [],
   "source": [
    "input_tree_file = snakemake.input.tree\n",
    "input_alignment = snakemake.input.alignment\n",
    "output_tree_file = snakemake.output.tree\n",
    "output_alignment = snakemake.output.alignment\n",
    "outgroup = snakemake.params.outgroup"
   ]
  },
  {
   "cell_type": "code",
   "execution_count": null,
   "id": "5cb8296b-b57a-4d82-a0c9-387279347adb",
   "metadata": {
    "tags": []
   },
   "outputs": [],
   "source": [
    "tree = Bio.Phylo.read(input_tree_file, \"newick\")\n",
    "\n",
    "n_init = len(tree.get_terminals())\n",
    "assert any(clade.name == outgroup for clade in tree.get_terminals())\n",
    "\n",
    "tree.root_with_outgroup(outgroup)\n",
    "\n",
    "tree.root = tree.root.clades[0]\n",
    "\n",
    "n_final = len(tree.get_terminals())\n",
    "assert not any(clade.name == outgroup for clade in tree.get_terminals())\n",
    "assert n_final == n_init - 1\n",
    "\n",
    "_ = Bio.Phylo.write(tree, output_tree_file, \"newick\")"
   ]
  },
  {
   "cell_type": "code",
   "execution_count": null,
   "id": "8a33be09-5e4b-4c4b-8370-c0c839df24fb",
   "metadata": {},
   "outputs": [],
   "source": [
    "alignment = list(Bio.SeqIO.parse(input_alignment, \"fasta\"))\n",
    "n_seqs_init = len(alignment)\n",
    "assert any(s.id == outgroup for s in alignment)\n",
    "\n",
    "alignment = [s for s in alignment if s.id != outgroup]\n",
    "assert n_seqs_init == len(alignment) + 1\n",
    "\n",
    "_ = Bio.SeqIO.write(alignment, output_alignment, \"fasta\")"
   ]
  }
 ],
 "metadata": {
  "kernelspec": {
   "display_name": "Python 3 (ipykernel)",
   "language": "python",
   "name": "python3"
  },
  "language_info": {
   "codemirror_mode": {
    "name": "ipython",
    "version": 3
   },
   "file_extension": ".py",
   "mimetype": "text/x-python",
   "name": "python",
   "nbconvert_exporter": "python",
   "pygments_lexer": "ipython3",
   "version": "3.10.14"
  }
 },
 "nbformat": 4,
 "nbformat_minor": 5
}
