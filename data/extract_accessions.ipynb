{
 "cells": [
  {
   "cell_type": "markdown",
   "id": "ac4911bf-b331-4080-947b-e55e7cd4db05",
   "metadata": {},
   "source": [
    "# Extract accessions from supplementary table 3"
   ]
  },
  {
   "cell_type": "code",
   "execution_count": null,
   "id": "c37dff65-d07b-486c-8305-ef0b6704ae29",
   "metadata": {
    "tags": []
   },
   "outputs": [],
   "source": [
    "import pandas as pd\n",
    "\n",
    "dfs = pd.read_excel(\"Supplementary Tables 1-3.xlsx\", skiprows=1, sheet_name=None)\n",
    "\n",
    "before_date = pd.to_datetime(\"2020-03-01\")"
   ]
  },
  {
   "cell_type": "code",
   "execution_count": null,
   "id": "e2b687c3-f667-4dd9-a4f6-dbc0df0cd1cd",
   "metadata": {
    "tags": []
   },
   "outputs": [],
   "source": [
    "table_s3 = (\n",
    "    dfs[\"Supplementary Table 3\"]\n",
    "    .rename(\n",
    "        columns={\n",
    "            \"Accession ID\": \"accession\",\n",
    "            \"Strain name\": \"strain\",\n",
    "            \"Lineage\": \"lineage\",\n",
    "            \"Collection date\": \"collection_date\",\n",
    "        }\n",
    "    )\n",
    "    [[\"accession\", \"strain\", \"lineage\", \"collection_date\"]]\n",
    "    .assign(collection_date=lambda x: pd.to_datetime(x[\"collection_date\"]))\n",
    "    .query(\"collection_date < @before_date\")\n",
    ")\n",
    "\n",
    "table_s3"
   ]
  },
  {
   "cell_type": "code",
   "execution_count": null,
   "id": "7d63faf3-7ab8-49bc-9cbf-3c39ddb0f0b9",
   "metadata": {},
   "outputs": [],
   "source": [
    "table_s3.to_csv(\"all_accessions.csv\", index=False)\n",
    "\n",
    "with open(\"gisaid_accessions.csv\", \"w\") as f:\n",
    "    f.write(\n",
    "        \", \".join(table_s3.query(\"accession.str.startswith('EPI_')\")[\"accession\"].tolist())\n",
    "    )\n",
    "    \n",
    "with open(\"genbank_accessions.csv\", \"w\") as f:\n",
    "    f.write(\n",
    "        \", \".join(table_s3.query(\"not accession.str.startswith('EPI_')\")[\"accession\"].tolist())\n",
    "    )    "
   ]
  },
  {
   "cell_type": "code",
   "execution_count": null,
   "id": "7c343351-f351-4ed2-b666-1558f1dceeca",
   "metadata": {},
   "outputs": [],
   "source": []
  }
 ],
 "metadata": {
  "kernelspec": {
   "display_name": "Python 3 (ipykernel)",
   "language": "python",
   "name": "python3"
  },
  "language_info": {
   "codemirror_mode": {
    "name": "ipython",
    "version": 3
   },
   "file_extension": ".py",
   "mimetype": "text/x-python",
   "name": "python",
   "nbconvert_exporter": "python",
   "pygments_lexer": "ipython3",
   "version": "3.10.14"
  }
 },
 "nbformat": 4,
 "nbformat_minor": 5
}
